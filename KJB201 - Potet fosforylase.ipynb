{
 "cells": [
  {
   "cell_type": "markdown",
   "metadata": {},
   "source": [
    "# KJB201 - Modellering av potet fosforylase reaksjonen"
   ]
  },
  {
   "cell_type": "markdown",
   "metadata": {},
   "source": [
    "## Fosforylaser \n",
    "\n",
    "***\n",
    "\n",
    "Fosforylaser er enzymer som finnes i både mennesker og dyr, de er ansvarlig for å både bryte ned og danne $\\alpha$-1,4-glykosidbindinger i stivelse og glykogen. Stivelse er sukkerlageret til planter og et godt eksempel er poteter, de benytter seg av fotosyntesen til å danne stivelse og dermed lagre energi til seinere. Når det er behov for å benytte seg av den lagrede energien, må stivelsen brytes ned for å videre kunne benytte energien. Det er denne reaksjonen vi skal se nærmere på.\n",
    "\n",
    "\n",
    " $$(Glukose)_n + P_i \\leftrightharpoons (Glucose)_{n-1} + Glucose-1-P$$ \n",
    "\n",
    "\n",
    "\n",
    "Den overnevte reaksjonen mellom dannelse og nedbryting av stivelse er reversibel og poteten kan bruke det samme enzymet for å gjenomføre begge reaksjonene. Siden reaksjonen er reversibel kan likevekten forskyves ved å endre på reaksjonsbetingelser, dette skal gjennomføres både på laboratoriet og her i dette arbeidsarket. \n",
    "\n",
    "\n",
    "***\n",
    "\n"
   ]
  },
  {
   "cell_type": "markdown",
   "metadata": {},
   "source": [
    "## Termodynamikk og likevekter \n",
    "\n",
    "***\n",
    "\n",
    "\n",
    "For at en reaksjon skal kunne gjennomføres må det være nok fri ernergi $\\Delta G^{0}$ i systemet. Det vil si at en reaksjon vil være spontan hvis $\\Delta G^{0} < 0$ og ikke-spontan hvis $\\Delta G^{0} > 0$. Ved å tilsette ett enzym vil reaksjonen katalyserers og hastigheten øke, men den kan ikke endre på $\\Delta G^{0}$ til en reaksjon, altså enzymet bestemmer ikke om reaksjonen går eller ikke, bare hastigheten. Enzymene vil øke hastigheten ved å senke aktiveringsenergien i systemet $\\Delta G^{\\ddagger}$ noe som ikke må forveksles med den frie energien $\\Delta G^{0}$ som bestemmes av termodynamikken.\n",
    "\n",
    "Likevekten i en kjemisk reaksjon vil tilsi når det dannes like mye produkter som reaktanter og for vår reaksjon skrives den slik: \n",
    "\n",
    "$$ K_{eq} = \\frac{[(Glucose)_{n-1}] + [Glucose-1-P]}{[(Glukose)_n] + [P_i]} $$\n",
    "\n",
    "Ved bruken av likevektskonstanten kan vi bedømme om reaktantene eller produktene er mest stabile, dersom $K > 1$ er produktene mest stabile og reaksjonen drevet mot høyre, om $K < 1$ er reaktantene mest stabile og reaksjonen er drevet mot venstre. Hvis $K = 1$ er reaktantene og produktene like stabile.  \n",
    "\n",
    "\n",
    "For å kunne undersøke om en reaksjon er spontan eller ikke må vi først regne ut likevekten til systemet ved standardbetingelser. Hver reaksjon vil ha en oppgitt standard fri energi $\\Delta G^{0'}$ som reflekterer likevekten. For den overnevte reaksjonen er $\\Delta G^{0'} = 3.1 KJ/mol$ og likevektskonstanten kan regnes ut slik:\n",
    "\n",
    "$$ \\Delta G^{0'} = -R \\cdot T \\cdot lnK  $$\n",
    "\n",
    "$$ K = e^{-\\frac{\\Delta G^{0'}}{RT}} $$\n",
    "\n",
    "$$ K = e^{-\\frac{3.1 KJ/mol}{8.314 J/Kmol \\cdot 298K}} = 0.286  $$\n",
    "\n",
    "\n",
    "Likevekten for denne reaksjonen ligger på venstre siden av reaksjonen siden $K < 1$ noe som tilsier at ved standardbetingelser vil reaksjonenen drives mot venstre og det bygges amylose. For å undersøke om hvilken vei reaksjonen drives ved de faktiske reaksjonsbestingelse må vi utvide utregningen om den frie energien for å ta med de reele konsentrasjonene slik at både gibbs frie energi ved likevekt $\\Delta G_{likevekt}$ og den frie energien for reaktantene $\\Delta G_{reaktanter}$. \n",
    "\n",
    "$$ \\Delta G_{reaksjon} = \\Delta G_{likevekt} +\\Delta G_{reaktanter} $$\n",
    "\n",
    "\n",
    "$$ \\Delta G_{reaksjon} = -RTlnK_{eq} + RTlnQ $$\n",
    "\n",
    "Q i dette tilfellet vil være den faktiske konsentrasjonen til reaktantene, og i reaksjonen vi skal undersøke ved vi fra naturen at det vil være 100 ganger så mye fosfat som det er $Glukose -1-P$ og vi kan dermed regne ut $\\Delta G_{reaksjon}$ som følger:\n",
    "\n",
    "\n",
    "$$ \\Delta G_{reaksjon} = \\Delta G^{0'} + RTln\\frac{[Produkter]}{[Reaktanter]}$$\n",
    "\n",
    "\n",
    "\n",
    "\n",
    "$$ \\Delta G_{reaksjon} = \\Delta G^{0'} + RTln\\frac{[(Glucose)_{n-1}] + [Glucose-1-P]}{~~[(Glukose)_n]~~ + [P_i]} $$\n",
    "\n",
    "\n",
    "For å forenkle denne reaksjonen, kan vi fjerne $(Glucose)_{n}$ og $(Glucose)_{n-1}$. Dette er en antagelse fordi vi antar at størrelesen på stivelse molekylene er så store at å fjerne en glucose enhent vil ikke endre størrelsen til stivelsen. \n",
    "\n",
    "\n",
    "\n",
    "$$ \\Delta G_{reaksjon} = \\Delta G^{0'} + RTln\\frac{[Glucose-1-P]}{[P_i]}  $$\n",
    "\n",
    "\n",
    "$$ \\Delta G_{reaksjon} = 3.1KJ/mol + 8.314 J/Kmol \\cdot 298K \\cdot ln\\frac{1}{100}$$\n",
    "\n",
    "$$ \\Delta G_{reaksjon} = -8.32 J/mol $$\n",
    "\n",
    "\n",
    "For en reaksjon som skjer $in-vivo$ hvor konsentrasjonen av fosfat er 100 ganger større en $Glucose-1-P$ vil $\\Delta G < 0$ og dermed vil nedbrytningen av stivelse være spontan.\n",
    "\n",
    "***"
   ]
  },
  {
   "cell_type": "markdown",
   "metadata": {},
   "source": [
    "## Kjemiske reaksjonshastigheter\n",
    "\n",
    "***\n",
    "\n",
    "Kjemiske reaksjoner kan beskrives med tall, og dette gir oss muligheten til å modellere hvordan reaksjoner kan foregå. Hvis vi antar den enkleste reaksjonen hvor en reaktant $A$ blir til et produkt $B$: \n",
    "\n",
    "$$A \\xrightarrow{k} B $$\n",
    "\n",
    "I dette tilfellet beskrives overgangen fra $A$ til $B$ med en hastighetskonstant $k$. For å kunne forklare hastigheten til reaksjonen ($v$) kan det for denne enkle reaksjonen bekskrives slik:\n",
    "\n",
    "$$ v = \\frac{d[A]}{dt} = -k[A] = k[B] $$\n",
    "\n",
    "I forklaringen av denne enkle reaksjonen brukes en differensiallikning for å forklare hvordan konsentrasjonen av $[A]$ og $[B]$ endrer seg med hensyn på tid. Siden vi kun har en reaktant og et produkt, så kan endringen i $[A]$ forklares som enten fjerningen av $A$ som $-k[A]$ eller økningen av $B$ som $k[B]$. Denne forklaringen gjelder for enkle systemer, men hvis vi skal matematisk forklare rekajsonen i denne øvelsen trenger vi flere begrep. \n",
    "\n",
    "\n",
    " $$(Glukose)_n + P_i \\leftrightharpoons (Glucose)_{n-1} + Glucose-1-P$$ \n",
    " \n",
    "Denne reaksjonen viser en likevekt som vises ved at reaksjonspilene går begge veier, for å forenkle litt kan vi heller skrive reaksjonen slik: \n",
    " \n",
    "  $$A + B \\leftrightharpoons C + D$$ \n",
    "  \n",
    "I denne reaksjonen har vi to reaktanter $A$ til $B$ som går til produktene $C$ og $D$, men siden denne reaksjonen er reversibel vil produktene også kunne gå tilbake til reaktantene. For å forklare dette matematisk med hensyn på tid må derfor begge reaksjonsveiene beskrives. \n",
    "\n",
    "$$ v = \\frac{d[A]}{dt} = -k{1}[A][B] + k_{-1}[C][D]$$\n",
    "\n",
    "$$ v = \\frac{d[B]}{dt} = -k{1}[A][B] + k_{-1}[C][D]$$\n",
    "\n",
    "$$ v = \\frac{d[C]}{dt} = k{1}[A][B] - k_{-1}[C][D]$$\n",
    "\n",
    "$$ v = \\frac{d[D]}{dt} = k{1}[A][B] - k_{-1}[C][D]$$\n",
    "\n",
    "\n",
    "Siden reaksjonen er reversibel har vi måttet legge til et nytt ledd, både reduksjonen og økning av reaktaner/produkter må medregnes. Hastighetskonstanten som beskriver reaksjonen fremover ($k_{1}$) tar for seg reduksjon av reaktaner, men økning av produkter. Motsatt, vil hastighetskonstanten som beskriver reaksjonen bakover ($k_{-1}$) forklarer økning av reaktaner men en reduksjon av produkter. Det er det vi beskriver over i differensiallikningene. Når reaksjonen er reversibel vil det dannes en likevekt som vil bekrives med likevekskonstanten $K$ som kan matematisk beskrives slik:\n",
    "\n",
    "$$K = \\frac{k_{1}}{k_{-1}} $$\n",
    "\n",
    "\n",
    "\n",
    "\n",
    "\n",
    "\n",
    "\n",
    "\n",
    "\n",
    "***\n"
   ]
  },
  {
   "cell_type": "markdown",
   "metadata": {},
   "source": [
    "## Likevekten i vår reaksjon\n",
    "\n",
    "***\n",
    "\n",
    "Som nevnt over vil bruken av likevektskonstanten bedømme om reaktantene eller produktene er mest stabile, dersom $K > 1$ er produktene mest stabile og reaksjonen drevet mot høyre, om $K < 1$ er reaktantene mest stabile og reaksjonen er drevet mot venstre. Hvis $K = 1$ er reaktantene og produktene like stabile. I vår reaksjon er likevektskonstanten regnet ut slik: \n",
    "\n",
    "$$ K = e^{-\\frac{3.1 KJ/mol}{8.314 J/Kmol \\cdot 298K}} = 0.286  $$\n",
    "\n",
    "Ved bruk av denne likevekskonstanen kan vi bedømme at denne reaksjonen lett kan reverseres, grunnen er at lekevektskonstanten er nærme $K = 1$. En endring i reaksjonsbetingelser kan enkelt forskyve denne reaksjonen til å fungere motsatt vei. Siden likevektskonstanten kan beskrives som $K = \\frac{k_{-1}}{k_{1}}$ vet vi at $k_{1} > k_{-1}$ siden $K < 1$. Dette betyr at hastighetskonstanten fremover $k_{1}$ er større enn hastighetskonstanten bakover $k_{-1}$.\n",
    "\n",
    "\n",
    "***\n"
   ]
  },
  {
   "cell_type": "markdown",
   "metadata": {},
   "source": [
    "## Python som programmeringsspråk\n",
    "\n",
    "***\n",
    "Python som programmeringsspråk er en av de enklere språkene og det er designet for å være brukervennlig. Jeg anbefaler at dere lærer dere Python, dette er ikke et krav for kurset eller relevant for eksamen, men kun en personlig anbefaling. I programmeringsspråk benytter vi oss av en bestemt syntax, som kan sammenlignes med grammatikk i norsk faget. For å gi dere en innføring til Python og hva det kan brukes til så har jeg skrevet all koden for dere og dere skal ikke skrive noe selv. For å hjelpe dere med å forstå litt om Python syntax, defineres noen sentrale elementer her:\n",
    "\n",
    "* '=' tegnet brukes til å definere en variabel, vi lagrer hva som er til høyre for tegnet i variablen definert på venstre side\n",
    "   * Variabler kan være int, string, float som betyr heltall, bokstaver eller desimaler \n",
    "* 'navn()' viser til en funksjon som gjør en oppgave, mens det inne i parantesen er argumenter som trengs for å gjennomføre        oppgaven \n",
    "* I Python teller vi fra 0, så første kolonne/rad vil være 0\n",
    "* `Print()` vil sende teksten innenfor parantesene til konsolen\n",
    "\n",
    "\n",
    "Python er et Open Source språk som betyr at informasjonen tilhørende koden er gratis tilgjengelig og det finnes derfor store ressurser på internett tilgjengelig for alle. Disse ressursene er som oftest kolleksjoner av kode som kan brukes av flere. Vi kan bruke `import` for å hente inn kolleksjoner med kode som vi kan benytte oss av. Ved å importere andre sin kode trenger vi ikke å skrive alt selv, dette er også en av fordelene ved Python.\n",
    "\n",
    "***"
   ]
  },
  {
   "cell_type": "code",
   "execution_count": 85,
   "metadata": {},
   "outputs": [],
   "source": [
    "import matplotlib.pyplot as plt\n",
    "import numpy as np"
   ]
  },
  {
   "cell_type": "markdown",
   "metadata": {},
   "source": [
    "Ved bruk av Python kan vi gjøre en enkel simulering av denne reaksjonen, dette begynner vi med ved å sette opp simuleringsparameterene i Python. Først skriver vi hvor mange datapunkter vi skal simulere $N = 100$ dermed setter vi opp tiden vi skal benytte med start og slutt på reaksjonen. Vi kan dermed bestemme tidsstegene $dt$. "
   ]
  },
  {
   "cell_type": "code",
   "execution_count": 86,
   "metadata": {},
   "outputs": [],
   "source": [
    "N = 100\n",
    "start = 0\n",
    "slutt = 5\n",
    "\n",
    "dt = (slutt - start)/N\n",
    "tid = np.linspace(start, slutt, N)\n"
   ]
  },
  {
   "cell_type": "markdown",
   "metadata": {},
   "source": [
    "***\n",
    "Deretter må vi sette opp hvilke reaksjons betingelser som skal gjelde for denne simuleringen, som nevnt over $K = 0.286$ for denne reaksjonen. Dette er et forholdstall som forteller størrelsesforskjellen mellom hastighetskonstanten fremover og bakover. Når vi skal gjennomføre en enkel simulering av reaksjonen kan vi bestemme $k_{1}$ og $k_{-1}$ slik at forholdstallet $K$ blir riktig. OBS! Hastighetskonstantene brukt i dette eksempelet er ikke ekte.\n",
    "\n",
    "$$ K = \\frac{k_{-1}}{k_{1}} = \\frac{1}{0.286} = 0.286 $$\n",
    "\n",
    "Vi har dermed bestemt hastighetskonstantene for dette systemt, men for at Python skal kunne lese det, bør variabel navnene være lettere enn $k_{1}$ og $k_{-1}$, så nedover heter $k_{1} = kf$ og $k_{-1} = kr$\n",
    "\n",
    "Videre må vi forenkle reaksjonsligningen for å kunne simulere på en enkel måte. Som vi nevnte over, er kan vi forenkle reaksjonen ved å stryke $(Glukose)_n$ og $(Glucose)_{n-1}$ fra reaksjonen fordi størrelsen på molekylene gjør at vi ikke vil merke stor endring i konsentrasjonen. Dermed blir denne reaksjonen:\n",
    "\n",
    "$$(Glukose)_n + P_i \\leftrightharpoons (Glucose)_{n-1} + Glucose-1-P$$ \n",
    "\n",
    "Forenklet til: \n",
    "\n",
    "$$P_i \\leftrightharpoons Glucose-1-P$$ \n",
    "\n",
    "Som vi kan skrive som: \n",
    "\n",
    "$$A \\leftrightharpoons B$$ \n",
    "\n",
    "For å videre simulere denne reaksjonen vil vi måtte bestemme startkonsentrasjonene av både $A$ og $B$, i koden under kalles disse henholdsvis Ca og Cb.\n",
    "\n",
    "***"
   ]
  },
  {
   "cell_type": "markdown",
   "metadata": {},
   "source": [
    "### Oppgave 1: Benytt laboratorieheftet til å beregne konsentrasjonen av Ca og Cb for deløvelse 3.2"
   ]
  },
  {
   "cell_type": "code",
   "execution_count": 117,
   "metadata": {},
   "outputs": [],
   "source": [
    "kf = 1\n",
    "kr = 0.286 \n",
    "\n",
    "\n",
    "Ca = [0]\n",
    "Cb = [25]"
   ]
  },
  {
   "cell_type": "markdown",
   "metadata": {},
   "source": [
    "***\n",
    "\n",
    "For å gjennomføre en enkel simulering har vi laget en liste Ca og Cb som vil bli oppdatert med en ny verdi for hvert steg vi definerte over $N=100$\n",
    "\n",
    "***"
   ]
  },
  {
   "cell_type": "code",
   "execution_count": 118,
   "metadata": {},
   "outputs": [],
   "source": [
    "for i in range(N-1):\n",
    "    Ca.append(Ca[i] - kf*Ca[i]*dt+kr*Cb[i]*dt)\n",
    "    Cb.append(Cb[i] + kf*Ca[i]*dt-kr*Cb[i]*dt)\n"
   ]
  },
  {
   "cell_type": "markdown",
   "metadata": {},
   "source": [
    "***\n",
    "\n",
    "Deretter kan vi fremstille reaksjonene grafisk ved hjelp av 'plt.plot()' funksjonen som vi importerte tidligere\n",
    "\n",
    "***"
   ]
  },
  {
   "cell_type": "code",
   "execution_count": 119,
   "metadata": {},
   "outputs": [
    {
     "data": {
      "text/plain": [
       "<matplotlib.legend.Legend at 0x228b7f5ddc0>"
      ]
     },
     "execution_count": 119,
     "metadata": {},
     "output_type": "execute_result"
    },
    {
     "data": {
      "image/png": "[encoded data removed]",
      "text/plain": [
       "<Figure size 432x288 with 1 Axes>"
      ]
     },
     "metadata": {
      "needs_background": "light"
     },
     "output_type": "display_data"
    }
   ],
   "source": [
    "plt.plot(tid,Ca,'g', label = '$(Glukose)_n$ + $P_i$') \n",
    "plt.plot(tid,Cb,'blue', label = '$(Glucose)_{n-1}$ + $Glucose-1-P$' )\n",
    "plt.legend()\n",
    "\n",
    "\n"
   ]
  },
  {
   "cell_type": "markdown",
   "metadata": {},
   "source": [
    "### Oppgave 2: Gå tilbake til oppgave 1 og gjennomfør den samme seksjonen med kode, men regn ut startkonsentrasjoner fra deløvelse 3.3 "
   ]
  },
  {
   "cell_type": "code",
   "execution_count": null,
   "metadata": {},
   "outputs": [],
   "source": []
  }
 ],
 "metadata": {
  "kernelspec": {
   "display_name": "Python 3",
   "language": "python",
   "name": "python3"
  },
  "language_info": {
   "codemirror_mode": {
    "name": "ipython",
    "version": 3
   },
   "file_extension": ".py",
   "mimetype": "text/x-python",
   "name": "python",
   "nbconvert_exporter": "python",
   "pygments_lexer": "ipython3",
   "version": "3.8.3"
  }
 },
 "nbformat": 4,
 "nbformat_minor": 4
}
