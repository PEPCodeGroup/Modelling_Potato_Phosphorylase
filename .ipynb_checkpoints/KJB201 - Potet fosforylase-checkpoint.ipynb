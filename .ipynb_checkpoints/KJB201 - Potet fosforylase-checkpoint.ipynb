{
 "cells": [
  {
   "cell_type": "markdown",
   "metadata": {},
   "source": [
    "# KJB201 - Modellering av potet fosforylase reaksjonen"
   ]
  },
  {
   "cell_type": "markdown",
   "metadata": {},
   "source": [
    "## Fosforylaser \n",
    "\n",
    "***\n",
    "\n",
    "Fosforylaser er enzymer som finnes i både mennesker og dyr, de er ansvarlig for å både bryte ned og danne $\\alpha$-1,4-glykosidbindinger i stivelse og glykogen. Stivelse er sukkerlageret til planter og et godt eksempel er poteter, de benytter seg av fotosyntesen til å danne stivelse og dermed lagre energi til seinere. Når det er behov for å benytte seg av den lagrede energien, må stivelsen brytes ned for å videre kunne benytte energien. Det er denne reaksjonen vi skal se nærmere på.\n",
    "\n",
    "\n",
    " $$(Glukose)_n + P_i \\leftrightharpoons (Glucose)_{n-1} + Glucose-1-P$$ \n",
    "\n",
    "\n",
    "\n",
    "Den overnevte reaksjonen mellom dannelse og nedbryting av stivelse er reversibel og poteten kan bruke det samme enzymet for å gjenomføre begge reaksjonene. Siden reaksjonen er reversibel kan likevekten forskyves ved å endre på reaksjonsbetingelser, dette skal gjennomføres både på laboratoriet og her i dette arbeidsarket. \n",
    "\n",
    "\n",
    "***\n",
    "\n"
   ]
  },
  {
   "cell_type": "markdown",
   "metadata": {},
   "source": [
    "## Termodynamikk og likevekter \n",
    "\n",
    "***\n",
    "\n",
    "\n",
    "For at en reaksjon skal kunne gjennomføres må det være nok fri ernergi $\\Delta G^{0}$ i systemet. Det vil si at en reaksjon vil være spontan hvis $\\Delta G^{0} < 0$ og ikke-spontan hvis $\\Delta G^{0} > 0$. Ved å tilsette ett enzym vil reaksjonen katalyserers og hastigheten øke, men den kan ikke endre på $\\Delta G^{0}$ til en reaksjon, altså enzymet bestemmer ikke om reaksjonen går eller ikke, bare hastigheten. Enzymene vil øke hastigheten ved å senke aktiveringsenergien i systemet $\\Delta G^{\\ddagger}$ noe som ikke må forveksles med den frie energien $\\Delta G^{0}$ som bestemmes av termodynamikken.\n",
    "\n",
    "Likevekten i en kjemisk reaksjon vil tilsi når det dannes like mye produkter som reaktanter og for vår reaksjon skrives den slik: \n",
    "\n",
    "$$ K_{eq} = \\frac{[(Glucose)_{n-1}] + [Glucose-1-P]}{[(Glukose)_n] + [P_i]} $$\n",
    "\n",
    "Ved bruken av likevektskonstanten kan vi bedømme om reaktantene eller produktene er mest stabile, dersom $K > 1$ er produktene mest stabile og reaksjonen drevet mot høyre, om $K < 1$ er reaktantene mest stabile og reaksjonen er drevet mot venstre. Hvis $K = 1$ er reaktantene og produktene like stabile.  \n",
    "\n",
    "\n",
    "For å kunne undersøke om en reaksjon er spontan eller ikke må vi først regne ut likevekten til systemet ved standardbetingelser. Hver reaksjon vil ha en oppgitt standard fri energi $\\Delta G^{0'}$ som reflekterer likevekten. For den overnevte reaksjonen er $\\Delta G^{0'} = 3.1 KJ/mol$ og likevektskonstanten kan regnes ut slik:\n",
    "\n",
    "$$ \\Delta G^{0'} = -R \\cdot T \\cdot lnK  $$\n",
    "\n",
    "$$ K = e^{-\\frac{\\Delta G^{0'}}{RT}} $$\n",
    "\n",
    "$$ K = e^{-\\frac{3.1 KJ/mol}{8.314 J/Kmol \\cdot 298K}} = 0.286  $$\n",
    "\n",
    "\n",
    "Likevekten for denne reaksjonen ligger på venstre siden av reaksjonen siden $K < 1$ noe som tilsier at ved standardbetingelser vil reaksjonenen drives mot venstre og det bygges amylose. For å undersøke om hvilken vei reaksjonen drives ved de faktiske reaksjonsbestingelse må vi utvide utregningen om den frie energien for å ta med de reele konsentrasjonene slik at både gibbs frie energi ved likevekt $\\Delta G_{likevekt}$ og den frie energien for reaktantene $\\Delta G_{reaktanter}$. \n",
    "\n",
    "$$ \\Delta G_{reaksjon} = \\Delta G_{likevekt} +\\Delta G_{reaktanter} $$\n",
    "\n",
    "$$ \\Delta G_{reaksjon} = -RTlnK_{eq} + RTlnQ $$\n",
    "\n",
    "Q i dette tilfellet vil være den faktiske konsentrasjonen til reaktantene, og i reaksjonen vi skal undersøke ved vi fra naturen at det vil være 100 ganger så mye fosfat som det er $Glukose -1-P$ og vi kan dermed regne ut $\\Delta G_{reaksjon}$ som følger:\n",
    "\n",
    "\n",
    "$$ \\Delta G_{reaksjon} = \\Delta G^{0'} + RTln\\frac{[Produkter]}{[Reaktanter]}$$\n",
    "\n",
    "$$ \\Delta G_{reaksjon} = \\Delta G^{0'} + RTln\\frac{[(Glucose)_{n-1}] + [Glucose-1-P]}{~~[(Glukose)_n]~~ + [P_i]} $$\n",
    "\n",
    "\n",
    "For å forenkle denne reaksjonen, kan vi fjerne $(Glucose)_{n}$ og $(Glucose)_{n-1}$. Dette er en antagelse fordi vi antar at størrelesen på stivelse molekylene er så store at å fjerne en glucose enhent vil ikke endre størrelsen til stivelsen. \n",
    "\n",
    "\n",
    "\n",
    "$$ \\Delta G_{reaksjon} = \\Delta G^{0'} + RTln\\frac{[Glucose-1-P]}{[P_i]}  $$\n",
    "\n",
    "\n",
    "$$ \\Delta G_{reaksjon} = 3.1KJ/mol + 8.314 J/Kmol \\cdot 298K \\cdot ln\\frac{1}{100}$$\n",
    "\n",
    "$$ \\Delta G_{reaksjon} = -8.32 J/mol $$\n",
    "\n",
    "\n",
    "For en reaksjon som skjer $in-vivo$ hvor konsentrasjonen av fosfat er 100 ganger større en $Glucose-1-P$ vil $\\Delta G < 0$ og dermed vil nedbrytningen av stivelse være spontan.\n",
    "\n",
    "***"
   ]
  },
  {
   "cell_type": "markdown",
   "metadata": {},
   "source": [
    "## Kjemiske reaksjonshastigheter\n",
    "\n",
    "***\n",
    "\n",
    "\n",
    "\n",
    "\n",
    "\n",
    "\n",
    "\n",
    "\n",
    "\n",
    "***\n"
   ]
  },
  {
   "cell_type": "markdown",
   "metadata": {},
   "source": [
    "Informasjon om likevekter...\n"
   ]
  },
  {
   "cell_type": "markdown",
   "metadata": {},
   "source": [
    "Informasjon om python "
   ]
  },
  {
   "cell_type": "code",
   "execution_count": 113,
   "metadata": {},
   "outputs": [],
   "source": [
    "import matplotlib.pyplot as plt"
   ]
  },
  {
   "cell_type": "code",
   "execution_count": 99,
   "metadata": {},
   "outputs": [],
   "source": [
    "N = 100\n",
    "start = 0\n",
    "slutt = 5\n",
    "\n",
    "dt = (slutt - start)/N\n",
    "tid = np.linspace(start, slutt, N)\n"
   ]
  },
  {
   "cell_type": "code",
   "execution_count": 109,
   "metadata": {},
   "outputs": [],
   "source": [
    "kf = 0.1\n",
    "kr = 1 \n",
    "\n",
    "\n",
    "Cb = [0]\n",
    "Cc = [25]\n"
   ]
  },
  {
   "cell_type": "code",
   "execution_count": 110,
   "metadata": {},
   "outputs": [],
   "source": [
    "for i in range(N-1):\n",
    "    Cb.append(Cb[i] - kf*Cb[i]*dt+kr*Cc[i]*dt)\n",
    "    Cc.append(Cc[i] + kf*Cb[i]*dt-kr*Cc[i]*dt)\n"
   ]
  },
  {
   "cell_type": "code",
   "execution_count": 112,
   "metadata": {},
   "outputs": [
    {
     "data": {
      "text/plain": [
       "[<matplotlib.lines.Line2D at 0x295924b5340>]"
      ]
     },
     "execution_count": 112,
     "metadata": {},
     "output_type": "execute_result"
    },
    {
     "data": {
      "image/png": "[encoded data removed]",
      "text/plain": [
       "<Figure size 432x288 with 1 Axes>"
      ]
     },
     "metadata": {
      "needs_background": "light"
     },
     "output_type": "display_data"
    }
   ],
   "source": [
    "plt.plot(tid,Cb,'g') \n",
    "plt.plot(tid,Cc,'blue') "
   ]
  },
  {
   "cell_type": "code",
   "execution_count": null,
   "metadata": {},
   "outputs": [],
   "source": []
  }
 ],
 "metadata": {
  "kernelspec": {
   "display_name": "Python 3",
   "language": "python",
   "name": "python3"
  },
  "language_info": {
   "codemirror_mode": {
    "name": "ipython",
    "version": 3
   },
   "file_extension": ".py",
   "mimetype": "text/x-python",
   "name": "python",
   "nbconvert_exporter": "python",
   "pygments_lexer": "ipython3",
   "version": "3.8.3"
  }
 },
 "nbformat": 4,
 "nbformat_minor": 4
}
